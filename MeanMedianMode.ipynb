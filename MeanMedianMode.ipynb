{
 "cells": [
  {
   "cell_type": "markdown",
   "metadata": {
    "deletable": true,
    "editable": true
   },
   "source": [
    "# Mean, Median, Mode, and introducing NumPy"
   ]
  },
  {
   "cell_type": "markdown",
   "metadata": {
    "deletable": true,
    "editable": true
   },
   "source": [
    "## Mean vs. Median"
   ]
  },
  {
   "cell_type": "markdown",
   "metadata": {
    "deletable": true,
    "editable": true
   },
   "source": [
    "Let's create some fake income data, centered around 27,000 with a normal distribution and standard deviation of 15,000, with 10,000 data points. (We'll discuss those terms more later, if you're not familiar with them.)\n",
    "\n",
    "Then, compute the mean (average) - it should be close to 27,000:"
   ]
  },
  {
   "cell_type": "code",
   "execution_count": 17,
   "metadata": {
    "collapsed": false,
    "deletable": true,
    "editable": true
   },
   "outputs": [
    {
     "data": {
      "text/plain": [
       "26921.29815813359"
      ]
     },
     "execution_count": 17,
     "metadata": {},
     "output_type": "execute_result"
    }
   ],
   "source": [
    "import numpy as np\n",
    "\n",
    "incomes = np.random.normal(27000, 15000, 10000)\n",
    "np.mean(incomes)"
   ]
  },
  {
   "cell_type": "markdown",
   "metadata": {
    "deletable": true,
    "editable": true
   },
   "source": [
    "We can segment the income data into 50 buckets, and plot it as a histogram:"
   ]
  },
  {
   "cell_type": "code",
   "execution_count": 18,
   "metadata": {
    "collapsed": false,
    "deletable": true,
    "editable": true
   },
   "outputs": [
    {
     "data": {
      "image/png": "[encoded data removed]",
      "text/plain": [
       "<Figure size 432x288 with 1 Axes>"
      ]
     },
     "metadata": {
      "needs_background": "light"
     },
     "output_type": "display_data"
    }
   ],
   "source": [
    "%matplotlib inline\n",
    "import matplotlib.pyplot as plt\n",
    "plt.hist(incomes, 50)\n",
    "plt.show()"
   ]
  },
  {
   "cell_type": "markdown",
   "metadata": {
    "deletable": true,
    "editable": true
   },
   "source": [
    "Now compute the median - since we have a nice, even distribution it too should be close to 27,000:"
   ]
  },
  {
   "cell_type": "code",
   "execution_count": 19,
   "metadata": {
    "collapsed": false,
    "deletable": true,
    "editable": true
   },
   "outputs": [
    {
     "data": {
      "text/plain": [
       "27055.66438807293"
      ]
     },
     "execution_count": 19,
     "metadata": {},
     "output_type": "execute_result"
    }
   ],
   "source": [
    "np.median(incomes)"
   ]
  },
  {
   "cell_type": "markdown",
   "metadata": {
    "deletable": true,
    "editable": true
   },
   "source": [
    "Now we'll add Donald Trump into the mix. Darn income inequality!"
   ]
  },
  {
   "cell_type": "code",
   "execution_count": 20,
   "metadata": {
    "collapsed": false,
    "deletable": true,
    "editable": true
   },
   "outputs": [],
   "source": [
    "incomes = np.append(incomes, [1000000000])"
   ]
  },
  {
   "cell_type": "markdown",
   "metadata": {
    "deletable": true,
    "editable": true
   },
   "source": [
    "The median won't change much, but the mean does:"
   ]
  },
  {
   "cell_type": "code",
   "execution_count": 21,
   "metadata": {
    "collapsed": false,
    "deletable": true,
    "editable": true
   },
   "outputs": [
    {
     "data": {
      "text/plain": [
       "27058.56627872828"
      ]
     },
     "execution_count": 21,
     "metadata": {},
     "output_type": "execute_result"
    }
   ],
   "source": [
    "np.median(incomes)"
   ]
  },
  {
   "cell_type": "code",
   "execution_count": 22,
   "metadata": {
    "collapsed": false,
    "deletable": true,
    "editable": true
   },
   "outputs": [
    {
     "data": {
      "text/plain": [
       "126908.60729740387"
      ]
     },
     "execution_count": 22,
     "metadata": {},
     "output_type": "execute_result"
    }
   ],
   "source": [
    "np.mean(incomes)"
   ]
  },
  {
   "cell_type": "markdown",
   "metadata": {
    "deletable": true,
    "editable": true
   },
   "source": [
    "## Mode"
   ]
  },
  {
   "cell_type": "markdown",
   "metadata": {
    "deletable": true,
    "editable": true
   },
   "source": [
    "Next, let's generate some fake age data for 500 people:"
   ]
  },
  {
   "cell_type": "code",
   "execution_count": 23,
   "metadata": {
    "collapsed": false,
    "deletable": true,
    "editable": true
   },
   "outputs": [
    {
     "data": {
      "text/plain": [
       "array([79, 60, 41, 47, 50, 45, 21, 43, 36, 77, 69, 34, 86, 51, 42, 82, 18,\n",
       "       32, 41, 82, 53, 78, 55, 24, 82, 24, 72, 60, 23, 62, 36, 41, 68, 42,\n",
       "       50, 46, 38, 38, 89, 84, 31, 38, 51, 60, 52, 62, 82, 36, 52, 43, 39,\n",
       "       77, 40, 31, 67, 29, 62, 75, 75, 48, 56, 51, 38, 66, 69, 53, 39, 53,\n",
       "       74, 28, 20, 54, 83, 62, 75, 22, 30, 62, 20, 79, 81, 33, 62, 69, 18,\n",
       "       29, 73, 66, 78, 79, 26, 59, 68, 55, 82, 28, 62, 23, 25, 79, 82, 29,\n",
       "       74, 33, 32, 59, 51, 54, 58, 68, 52, 23, 22, 78, 76, 18, 50, 82, 63,\n",
       "       64, 70, 54, 50, 66, 41, 59, 26, 72, 34, 82, 63, 32, 56, 41, 30, 86,\n",
       "       73, 77, 64, 52, 57, 87, 75, 81, 37, 29, 31, 81, 68, 46, 31, 36, 56,\n",
       "       48, 46, 60, 19, 87, 81, 88, 85, 87, 89, 46, 68, 70, 47, 54, 73, 55,\n",
       "       80, 74, 19, 54, 52, 24, 77, 32, 62, 64, 33, 46, 56, 55, 66, 40, 53,\n",
       "       29, 80, 84, 67, 37, 27, 30, 24, 48, 24, 52, 65, 65, 31, 74, 42, 31,\n",
       "       49, 80, 83, 83, 31, 50, 39, 80, 66, 37, 37, 39, 51, 70, 76, 45, 47,\n",
       "       72, 65, 79, 40, 43, 26, 61, 35, 51, 57, 87, 67, 18, 24, 78, 45, 23,\n",
       "       45, 39, 24, 77, 54, 48, 66, 49, 20, 78, 39, 37, 86, 52, 23, 22, 53,\n",
       "       81, 36, 58, 61, 55, 44, 51, 78, 49, 83, 47, 63, 24, 70, 89, 28, 57,\n",
       "       20, 81, 23, 88, 65, 39, 57, 48, 31, 47, 38, 50, 71, 86, 21, 29, 85,\n",
       "       38, 87, 41, 30, 89, 50, 66, 87, 69, 37, 18, 36, 40, 78, 29, 88, 46,\n",
       "       45, 68, 71, 51, 43, 71, 57, 39, 89, 37, 37, 52, 72, 60, 72, 26, 74,\n",
       "       64, 87, 20, 40, 75, 58, 20, 53, 18, 27, 67, 18, 42, 28, 65, 42, 52,\n",
       "       30, 31, 31, 72, 59, 28, 58, 52, 55, 81, 71, 50, 38, 51, 58, 84, 59,\n",
       "       33, 71, 30, 38, 53, 18, 66, 60, 46, 47, 37, 56, 19, 71, 81, 21, 18,\n",
       "       43, 61, 89, 23, 81, 74, 56, 20, 55, 42, 72, 41, 23, 55, 80, 36, 46,\n",
       "       79, 89, 19, 47, 56, 39, 28, 62, 34, 30, 26, 78, 41, 20, 24, 40, 27,\n",
       "       47, 26, 84, 45, 71, 81, 34, 76, 50, 27, 20, 42, 33, 37, 49, 32, 48,\n",
       "       79, 46, 54, 49, 73, 22, 47, 29, 89, 86, 49, 23, 26, 28, 65, 60, 83,\n",
       "       39, 47, 50, 77, 63, 78, 50, 29, 46, 23, 73, 38, 71, 39, 72, 59, 81,\n",
       "       75, 81, 23, 37, 49, 62, 69, 59, 41, 42, 84, 68, 21, 46, 22, 82, 85,\n",
       "       19, 31, 46, 89, 57, 71, 82, 71, 87, 57, 78, 80, 67, 33, 56, 54, 22,\n",
       "       36, 57, 26, 26, 72, 69, 71])"
      ]
     },
     "execution_count": 23,
     "metadata": {},
     "output_type": "execute_result"
    }
   ],
   "source": [
    "ages = np.random.randint(18, high=90, size=500)\n",
    "ages"
   ]
  },
  {
   "cell_type": "code",
   "execution_count": 24,
   "metadata": {
    "collapsed": false,
    "deletable": true,
    "editable": true
   },
   "outputs": [
    {
     "data": {
      "text/plain": [
       "ModeResult(mode=array([46]), count=array([12]))"
      ]
     },
     "execution_count": 24,
     "metadata": {},
     "output_type": "execute_result"
    }
   ],
   "source": [
    "from scipy import stats\n",
    "stats.mode(ages)"
   ]
  },
  {
   "cell_type": "code",
   "execution_count": null,
   "metadata": {
    "collapsed": false,
    "deletable": true,
    "editable": true
   },
   "outputs": [],
   "source": []
  }
 ],
 "metadata": {
  "kernelspec": {
   "display_name": "Python 3",
   "language": "python",
   "name": "python3"
  },
  "language_info": {
   "codemirror_mode": {
    "name": "ipython",
    "version": 3
   },
   "file_extension": ".py",
   "mimetype": "text/x-python",
   "name": "python",
   "nbconvert_exporter": "python",
   "pygments_lexer": "ipython3",
   "version": "3.9.9"
  }
 },
 "nbformat": 4,
 "nbformat_minor": 0
}
