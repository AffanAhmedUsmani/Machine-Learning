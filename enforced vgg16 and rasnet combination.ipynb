{
 "cells": [
  {
   "cell_type": "code",
   "execution_count": 5,
   "metadata": {},
   "outputs": [],
   "source": [
    "from tensorflow import keras\n",
    "import numpy as np\n",
    "model = keras.models.load_model('model.h5')\n",
    "model2 = keras.models.load_model('rasnet.h5')\n",
    "from tensorflow.keras.applications.resnet50 import preprocess_input\n",
    "from tensorflow.keras.preprocessing import image\n"
   ]
  },
  {
   "cell_type": "code",
   "execution_count": 9,
   "metadata": {},
   "outputs": [],
   "source": [
    "def process_img(path,i):\n",
    "        \n",
    "    img_path =path\n",
    "    if i== 1:\n",
    "        img = image.load_img(img_path, target_size=(128, 128))\n",
    "    else:\n",
    "        img = image.load_img(img_path, target_size=(224, 224))\n",
    "    \n",
    "    img_array = image.img_to_array(img)\n",
    "    img_batch = np.expand_dims(img_array, axis=0)\n",
    "    img_preprocessed = preprocess_input(img_batch)\n",
    "    return img_preprocessed\n"
   ]
  },
  {
   "cell_type": "code",
   "execution_count": 41,
   "metadata": {},
   "outputs": [
    {
     "name": "stdout",
     "output_type": "stream",
     "text": [
      "Viral Pnemonia\n",
      "[[1. 0. 0. 0.]]\n"
     ]
    }
   ],
   "source": [
    "#enter path of the image to be tested here \n",
    "path = \"./dataset/Viral Pneumonia/Viral Pneumonia-19.png\"\n",
    "\n",
    "prediction = model.predict(process_img(path,0))\n",
    "prediction=['Covid','Normal','TB_Chest','Viral Pnemonia']\n",
    "prediction2 = model2.predict(process_img(path,1))\n",
    "index_max = np.argmax(prediction)\n",
    "index_max2 =np.argmax(prediction2)\n",
    "if index_max == 0 and index_max2 == 0:\n",
    "    print('corona')\n",
    "elif index_max==1 and index_max2 ==3 :\n",
    "    print('NORMAL')\n",
    "elif index_max==2 and index_max2 ==1 :\n",
    "    print('TUBERCULOUSIS ')\n",
    "elif index_max==3 and index_max2 == 2:\n",
    "    print('PNEMONIA')\n",
    "else:\n",
    "    print(prediction[index_max])\n"
   ]
  },
  {
   "cell_type": "markdown",
   "metadata": {},
   "source": []
  }
 ],
 "metadata": {
  "interpreter": {
   "hash": "f23faf4bfe871c203c8bec80520af5927fc7cb1ae3bd834ddf554ee587ad1c05"
  },
  "kernelspec": {
   "display_name": "Python 3.8.6 64-bit",
   "language": "python",
   "name": "python3"
  },
  "language_info": {
   "codemirror_mode": {
    "name": "ipython",
    "version": 3
   },
   "file_extension": ".py",
   "mimetype": "text/x-python",
   "name": "python",
   "nbconvert_exporter": "python",
   "pygments_lexer": "ipython3",
   "version": "3.8.6"
  },
  "orig_nbformat": 4
 },
 "nbformat": 4,
 "nbformat_minor": 2
}
