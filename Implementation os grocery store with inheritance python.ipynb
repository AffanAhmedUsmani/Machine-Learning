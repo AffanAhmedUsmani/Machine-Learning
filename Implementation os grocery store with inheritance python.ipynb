{
 "cells": [
  {
   "cell_type": "markdown",
   "metadata": {},
   "source": [
    "NAME :\n",
    "Z-ID :"
   ]
  },
  {
   "cell_type": "markdown",
   "metadata": {},
   "source": [
    "Create four classes related to the products your online store will sell: StoreItem, HouseholdItem, GroceryItem, BulkItem. SaleItem is the\n",
    "base class which has a name, sku, category, and price. sku is a unique identifier for each item. GroceryItem subclasses from SaleItem and\n",
    "has a nutrition field, and HouseholdItem also is a subclass of StoreItem but has a brand name. BulkItem subclasses from ProduceItem\n",
    "and adds a unit field (lbs, kg, ml, oz). Add constructors and method(s) to support printing human-readable strings for these items. Note\n",
    "that the bulk items should display there units with the strings. Think about which class to put the method(s) in. For example,"
   ]
  },
  {
   "cell_type": "code",
   "execution_count": null,
   "metadata": {},
   "outputs": [],
   "source": [
    "def b(fullrost):\n",
    "    splits = list(fullrost.groupby(\"major\"))\n",
    "    for i in range(0, len(splits)):\n",
    "        name = splits[i][0]\n",
    "        name = name.replace(\" \", \"\")\n",
    "        df = pd.DataFrame(splits[i][1])\n",
    "        df.drop('major', inplace=True, axis=1)\n",
    "        df.drop('GPA', inplace=True, axis=1)\n",
    "        df = df.sort_values('Student id')\n",
    "        print(df)\n",
    "        df.to_csv(\"./majorf/{}{}\".format(name, '.csv'))\n",
    "\n",
    "\n",
    "def c(fullrost):\n",
    "    eligible = fullrost[fullrost.GPA > 3.8]\n",
    "\n",
    "    today = date.today()\n",
    "    d3 = today.strftime(\"%m/%d/%y\")\n",
    "    eligible = eligible[eligible['indicator'] == False]\n",
    "    eligible = eligible[eligible['Graduation Date'] <= d3]\n",
    "    eligible.drop('indicator', inplace=True, axis=1)\n",
    "    eligible.drop('Graduation Date', inplace=True, axis=1)\n",
    "    eligible = eligible.sort_values('GPA', ascending=False)\n",
    "    eligible.to_csv(\"{}\".format('ScholarshipCandidates.csv'))\n",
    "    return eligible\n",
    "\n",
    "\n",
    "def d(fullrost):\n",
    "    disciplined = fullrost[fullrost['indicator'] == False]\n",
    "    disciplined.drop('indicator', inplace=True, axis=1)\n",
    "    disciplined.drop('major', inplace=True, axis=1)\n",
    "    disciplined.drop('GPA', inplace=True, axis=1)\n",
    "    disciplined = disciplined.sort_values('Graduation Date')\n",
    "    disciplined.to_csv(\"{}\".format('DisciplinedStudents.csv'))\n",
    "    return disciplined\n"
   ]
  },
  {
   "cell_type": "code",
   "execution_count": 52,
   "metadata": {},
   "outputs": [],
   "source": [
    "class StoreItem:\n",
    "    def __init__(self,name,sku,price):\n",
    "        self.name =name\n",
    "        self.sku =sku\n",
    "        self.price = price\n",
    "class ProduceItem:\n",
    "    def __init__(self,name,sku,price):\n",
    "        self.name =name\n",
    "        self.sku =sku\n",
    "        self.price = price\n",
    "        \n",
    "class HouseholdItem(StoreItem):\n",
    "     def __init__(self,name,sku,price,brandname):\n",
    "         super().__init__(name,sku,price)\n",
    "         self.brandname = brandname\n",
    "     def __str__(self):\n",
    "        return \"{} ({}) @ {}\".format(self.name,self.sku,self.price)   \n",
    "class GroceryItem(StoreItem):\n",
    "    def __init__(self,name,sku,price,nutrition):\n",
    "         super().__init__(name,sku,price)\n",
    "         \n",
    "         self.nutrition = nutrition\n",
    "    def __str__(self):\n",
    "        return \"{} ({}) @ {}\".format(self.name,self.sku,self.price)\n",
    "    \n",
    "class BulkItem(ProduceItem):\n",
    "    def __init__(self,name,sku,price,unit):\n",
    "        super().__init__(name,sku,price)\n",
    "        self.unit = unit\n",
    "        \n",
    "    def __str__(self):\n",
    "        return \"{} ({}) @ {}/{}\".format(self.name,self.sku,self.price,self.unit)\n"
   ]
  },
  {
   "cell_type": "code",
   "execution_count": 53,
   "metadata": {},
   "outputs": [
    {
     "name": "stdout",
     "output_type": "stream",
     "text": [
      "Two items: Cheerios (38942) @ 3.99,Bananas (4011) @ 0.59/lb\n"
     ]
    }
   ],
   "source": [
    "cereal = GroceryItem(\"Cheerios\", 38942, 3.99, {'calories': 200, 'fat': 0})\n",
    "bananas = BulkItem(\"Bananas\", 4011, 0.59, \"lb\")\n",
    "print(f\"Two items: {cereal},{bananas}\")\n"
   ]
  },
  {
   "cell_type": "code",
   "execution_count": 54,
   "metadata": {},
   "outputs": [],
   "source": [
    "class Inventory(object):\n",
    "    \n",
    "    listofitems=[]\n",
    "    tuple1 =()\n",
    "    listobj=[]\n",
    "    \n",
    "    \n",
    "    def add_item(self,obj,amount=1):\n",
    "        #self.amount = amount\n",
    "        \n",
    "        self.obj = obj\n",
    "        self.listobj.append(obj)\n",
    "        d=obj.__dict__\n",
    "        list121 =tuple(d.values())\n",
    "        self.tuple1= ( list121, amount)\n",
    "        \n",
    "        self.listofitems.append(self.tuple1)\n",
    "        \n",
    "    def remove_item(self,num,amount=0):\n",
    "        \n",
    "        try :\n",
    "            \n",
    "            for i in range(0,len(self.listofitems)):\n",
    "                \n",
    "                \n",
    "                    \n",
    "                if(num in self.listofitems[i][0]) and (amount <=self.listofitems[i][1]):\n",
    "                    a_list = list(self.listofitems[i])\n",
    "                    a_list[1] = a_list[1]- amount \n",
    "                    tuple(self.listofitems[i])\n",
    "                elif (num in self.listofitems[i][0]) and (amount ==self.listofitems[i][1]):\n",
    "                    self.listofitems.pop(i)\n",
    "                elif(num in self.listofitems[i][0]):\n",
    "                    self.listofitems.pop(i)\n",
    "        except:\n",
    "            print(\"error\")            \n",
    "                     \n",
    "                \n",
    "                    \n",
    "        \n",
    "    def find_item(self,num):\n",
    "        \n",
    "        for i in range(0,len(self.listofitems)):\n",
    "            if (num in self.listofitems[i][0]):\n",
    "                \n",
    "                return self.listofitems[i]\n",
    "                \n",
    "    def hasenough(self,num,amount):\n",
    "        for i in range(0,len(self.listofitems)):\n",
    "            if (num in self.listofitems[i][0]) and (amount <= self.listofitems[i][1]):\n",
    "                \n",
    "                return True\n",
    "        else:\n",
    "            return False\n",
    "        \n",
    "    def __str__(self):\n",
    "        for i in range(0,len(self.listobj)):\n",
    "            print(\"{} {}\".format(self.listofitems[i][1],self.listobj[i]))\n",
    "        return \"list completed\"\n",
    "        \n",
    "    \n",
    "    "
   ]
  },
  {
   "cell_type": "code",
   "execution_count": 55,
   "metadata": {},
   "outputs": [
    {
     "data": {
      "text/plain": [
       "True"
      ]
     },
     "execution_count": 55,
     "metadata": {},
     "output_type": "execute_result"
    }
   ],
   "source": [
    "item1=Inventory()\n",
    "cereal = GroceryItem(\"Cheerios\", 38942, 3.99, {'calories': 200, 'fat': 0})\n",
    "bananas = BulkItem(\"Bananas\", 4011, 0.59, \"lb\")\n",
    "item1.add_item(cereal,4)\n",
    "item1.add_item(bananas,6)\n",
    "item1.hasenough(4011,4)\n",
    "\n"
   ]
  },
  {
   "cell_type": "code",
   "execution_count": 56,
   "metadata": {},
   "outputs": [],
   "source": [
    "class ShoppingCart(Inventory):\n",
    "    \n",
    "    cartitems = []\n",
    "    tuple2 =()\n",
    "    total_cost = 0\n",
    "    def add_item(self,num,amount=1):\n",
    "        try:\n",
    "            \n",
    "            if(Inventory.hasenough(self,num[0][1],amount)):\n",
    "                if(amount-int(amount)==0):\n",
    "                    \n",
    "                    tuple2 = (amount , num[0])\n",
    "                    self.cartitems.append(tuple2)\n",
    "                else:\n",
    "                    print(\"not a valid amount \")\n",
    "                    \n",
    "            else:\n",
    "                print(\"not enough items in invetory\")\n",
    "        except:\n",
    "            print(\"Exception trigered\")\n",
    "                   \n",
    "    \n",
    "    def __str__(self):\n",
    "        for i in range(0,len(self.cartitems)):\n",
    "            print(\"{} {} ({}) @ {} \".format(self.cartitems[i][0],self.cartitems[i][1][0],self.cartitems[i][1][1],self.cartitems[i][1][2]))\n",
    "        return \"list completed\"\n",
    "    \n",
    "        "
   ]
  },
  {
   "cell_type": "code",
   "execution_count": 57,
   "metadata": {},
   "outputs": [],
   "source": [
    "class Store():\n",
    "    inventory=Inventory()\n",
    "    MAX_CARTS=10\n",
    "    total_cost =0\n",
    "    def __init__(self):\n",
    "        self.cart = ShoppingCart()\n",
    "        \n",
    "    i=0\n",
    "    def get_cart(self):\n",
    "        cart = self.cart\n",
    "        return cart\n",
    "    def checkout(self,obj):\n",
    "        d=obj.cartitems\n",
    "        \n",
    "        \n",
    "        for i in range(0,len(d)):\n",
    "           \n",
    "           price = d[i][0] * d[i][1][2]\n",
    "           my_cart.remove_item(d[0][1][1],d[0][0])\n",
    "           self.total_cost = price + self.total_cost\n",
    "        return self.total_cost\n",
    "        \n",
    "        \n"
   ]
  },
  {
   "cell_type": "code",
   "execution_count": 58,
   "metadata": {},
   "outputs": [
    {
     "name": "stdout",
     "output_type": "stream",
     "text": [
      "Inventory:\n",
      "4 Cheerios (38942) @ 3.99\n",
      "6 Bananas (4011) @ 0.59/lb\n",
      "10 Cheerios (38942) @ 3.99\n",
      "30 Trash Bags (38902) @ 5.99\n",
      "20 Bananas (4011) @ 0.59/lb\n",
      "25 Lettuce (3982) @ 2.99/head\n",
      "list completed\n"
     ]
    }
   ],
   "source": [
    "store = Store()\n",
    "store.inventory.add_item(GroceryItem(\"Cheerios\", 38942, 3.99, {'calories': 200, 'fat': 0}), 10)\n",
    "store.inventory.add_item(HouseholdItem(\"Trash Bags\", 38902, 5.99, \"Hefty\"), 30)\n",
    "store.inventory.add_item(BulkItem(\"Bananas\", 4011, 0.59, \"lb\"), 20)\n",
    "store.inventory.add_item(BulkItem(\"Lettuce\", 3982, 2.99, \"head\"), 25)\n",
    "#store.inventory.add_item(GroceryItem(\"Oreos\", 27894, 3.29), 1)\n",
    "\n",
    "print(\"Inventory:\")\n",
    "print(store.inventory)\n"
   ]
  },
  {
   "cell_type": "code",
   "execution_count": 59,
   "metadata": {},
   "outputs": [],
   "source": [
    "my_cart = store.get_cart()\n",
    "my_cart.add_item(store.inventory.find_item(38942),3)\n",
    "my_cart.add_item(store.inventory.find_item(38902))\n",
    "my_cart.add_item(store.inventory.find_item(4011), 3)\n"
   ]
  },
  {
   "cell_type": "code",
   "execution_count": 60,
   "metadata": {},
   "outputs": [
    {
     "name": "stdout",
     "output_type": "stream",
     "text": [
      "3 Cheerios (38942) @ 3.99 \n",
      "1 Trash Bags (38902) @ 5.99 \n",
      "3 Bananas (4011) @ 0.59 \n",
      "list completed\n"
     ]
    }
   ],
   "source": [
    "print(my_cart)"
   ]
  },
  {
   "cell_type": "code",
   "execution_count": 61,
   "metadata": {},
   "outputs": [
    {
     "name": "stdout",
     "output_type": "stream",
     "text": [
      "You spent $19.73\n"
     ]
    }
   ],
   "source": [
    "total_cost = store.checkout(my_cart)\n",
    "\n",
    "print(f\"You spent ${total_cost}\")\n"
   ]
  },
  {
   "cell_type": "code",
   "execution_count": 62,
   "metadata": {},
   "outputs": [
    {
     "name": "stdout",
     "output_type": "stream",
     "text": [
      "Inventory:\n",
      "4 Cheerios (38942) @ 3.99\n",
      "6 Bananas (4011) @ 0.59/lb\n",
      "10 Cheerios (38942) @ 3.99\n",
      "30 Trash Bags (38902) @ 5.99\n",
      "20 Bananas (4011) @ 0.59/lb\n",
      "25 Lettuce (3982) @ 2.99/head\n",
      "10 Cheerios (38942) @ 3.99\n",
      "30 Trash Bags (38902) @ 5.99\n",
      "20 Bananas (4011) @ 0.59/lb\n",
      "25 Lettuce (3982) @ 2.99/head\n",
      "list completed\n",
      "Exception trigered\n",
      "Cart:\n",
      "3 Cheerios (38942) @ 3.99 \n",
      "1 Trash Bags (38902) @ 5.99 \n",
      "3 Bananas (4011) @ 0.59 \n",
      "3 Bananas (4011) @ 0.59 \n",
      "1 Trash Bags (38902) @ 5.99 \n",
      "list completed\n",
      "You spent $27.490000000000002\n",
      "Updated Inventory:\n",
      "4 Cheerios (38942) @ 3.99\n",
      "6 Bananas (4011) @ 0.59/lb\n",
      "10 Cheerios (38942) @ 3.99\n",
      "30 Trash Bags (38902) @ 5.99\n",
      "20 Bananas (4011) @ 0.59/lb\n",
      "25 Lettuce (3982) @ 2.99/head\n",
      "10 Cheerios (38942) @ 3.99\n",
      "30 Trash Bags (38902) @ 5.99\n",
      "20 Bananas (4011) @ 0.59/lb\n",
      "25 Lettuce (3982) @ 2.99/head\n",
      "list completed\n"
     ]
    }
   ],
   "source": [
    "store2 = Store()\n",
    "store2.inventory.add_item(GroceryItem(\"Cheerios\", 38942, 3.99, {'calories': 200, 'fat': 0}), 10)\n",
    "store2.inventory.add_item(HouseholdItem(\"Trash Bags\", 38902, 5.99, \"Hefty\"), 30)\n",
    "store2.inventory.add_item(BulkItem(\"Bananas\", 4011, 0.59, \"lb\"), 20)\n",
    "store2.inventory.add_item(BulkItem(\"Lettuce\", 3982, 2.99, \"head\"), 25)\n",
    "#store2.inventory.add_item(GroceryItem(\"Oreos\", 27894, 3.29), 1)\n",
    "print(\"Inventory:\")\n",
    "print(store2.inventory)\n",
    "my_cart2 = store2.get_cart()\n",
    "my_cart2.add_item(store2.inventory.find_item(4011), 3)\n",
    "my_cart2.add_item(store2.inventory.find_item(38902))\n",
    "my_cart2.add_item(store2.inventory.find_item(27894), 1)\n",
    "print(\"Cart:\")\n",
    "print(my_cart2)\n",
    "total_cost = store2.checkout(my_cart2)\n",
    "print(f\"You spent ${total_cost}\")\n",
    "print(\"Updated Inventory:\")\n",
    "print(store2.inventory)\n"
   ]
  },
  {
   "cell_type": "code",
   "execution_count": 64,
   "metadata": {},
   "outputs": [
    {
     "name": "stdout",
     "output_type": "stream",
     "text": [
      "Exception trigered\n",
      "not a valid amount \n"
     ]
    }
   ],
   "source": [
    "my_cart = store.get_cart()\n",
    "my_cart.add_item(store.inventory.find_item(4013), 3) # raises your exception\n",
    "my_cart.add_item(store.inventory.find_item(38902), 1.5) # raises your exception\n",
    "store.inventory.remove_item(store.inventory.find_item(27894), 3) # raises your exceptio"
   ]
  },
  {
   "cell_type": "markdown",
   "metadata": {},
   "source": []
  }
 ],
 "metadata": {
  "interpreter": {
   "hash": "57baa5815c940fdaff4d14510622de9616cae602444507ba5d0b6727c008cbd6"
  },
  "kernelspec": {
   "display_name": "Python 3.7.8 64-bit",
   "language": "python",
   "name": "python3"
  },
  "language_info": {
   "codemirror_mode": {
    "name": "ipython",
    "version": 3
   },
   "file_extension": ".py",
   "mimetype": "text/x-python",
   "name": "python",
   "nbconvert_exporter": "python",
   "pygments_lexer": "ipython3",
   "version": "3.9.12"
  },
  "orig_nbformat": 4
 },
 "nbformat": 4,
 "nbformat_minor": 2
}
