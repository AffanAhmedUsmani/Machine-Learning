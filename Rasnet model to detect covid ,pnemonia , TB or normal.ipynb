{
  "cells": [
    {
      "cell_type": "code",
      "execution_count": 1,
      "metadata": {
        "id": "Hw44h2ON7dRw"
      },
      "outputs": [],
      "source": [
        "import os\n",
        "import cv2 as cv\n",
        "import tensorflow as tf\n",
        "import matplotlib.pyplot as plt\n",
        "import random\n",
        "import numpy as np\n",
        "from PIL import Image\n",
        "from numpy import asarray\n",
        "import pandas as pd\n",
        "import collections\n",
        "from sklearn.utils import shuffle\n",
        "import shutil\n",
        "from sklearn.model_selection import  train_test_split\n",
        "from sklearn.preprocessing import LabelBinarizer\n",
        "from tensorflow.keras.models import Model\n",
        "from tensorflow.keras.models import Sequential\n",
        "from tensorflow.keras.layers import BatchNormalization\n",
        "from tensorflow.keras.layers import AveragePooling2D\n",
        "from tensorflow.keras.layers import MaxPooling2D\n",
        "from tensorflow.keras.layers import Conv2D\n",
        "from tensorflow.keras.layers import Activation\n",
        "from tensorflow.keras.layers import Dropout\n",
        "from tensorflow.keras.layers import Flatten\n",
        "from tensorflow.keras.layers import Input\n",
        "from tensorflow.keras.layers import Dense\n",
        "from tensorflow.keras.layers import concatenate\n",
        "from tensorflow.keras.preprocessing.image import ImageDataGenerator\n",
        "from tensorflow.keras.optimizers import SGD\n",
        "from tensorflow.keras.optimizers import Adam"
      ]
    },
    {
      "cell_type": "code",
      "execution_count": 2,
      "metadata": {
        "colab": {
          "base_uri": "https://localhost:8080/"
        },
        "id": "EqrC6ZEg7mcH",
        "outputId": "eab5b6b9-7f8c-47d9-f1f6-fd434d15ed09"
      },
      "outputs": [
        {
          "name": "stdout",
          "output_type": "stream",
          "text": [
            "7134 1529 1529\n"
          ]
        }
      ],
      "source": [
        "normal_df = os.listdir('./dataset/Normal')\n",
        "normal_df = shuffle(normal_df)\n",
        "train_normal, test_normal = train_test_split(normal_df, test_size=0.3, random_state=101)\n",
        "val_normal, test_normal = train_test_split(test_normal, test_size=0.5, random_state=101)\n",
        "print(len(train_normal), len(val_normal), len(test_normal))"
      ]
    },
    {
      "cell_type": "code",
      "execution_count": 3,
      "metadata": {
        "colab": {
          "base_uri": "https://localhost:8080/"
        },
        "id": "FCuZ_-rB7y0H",
        "outputId": "096c6f3f-0e67-4f26-bf4d-1d0c322903d2"
      },
      "outputs": [
        {
          "name": "stdout",
          "output_type": "stream",
          "text": [
            "2531 542 543\n"
          ]
        }
      ],
      "source": [
        "covid_df = os.listdir('./dataset/COVID')\n",
        "covid_df = shuffle(covid_df)\n",
        "train_covid, test_covid = train_test_split(covid_df, test_size=0.3, random_state=101)\n",
        "val_covid, test_covid = train_test_split(test_covid, test_size=0.5, random_state=101)\n",
        "print(len(train_covid), len(val_covid), len(test_covid))"
      ]
    },
    {
      "cell_type": "code",
      "execution_count": 4,
      "metadata": {
        "colab": {
          "base_uri": "https://localhost:8080/"
        },
        "id": "VCbj1Tl373nn",
        "outputId": "284cc56b-452a-42fe-a4fe-0d7e6116b2ad"
      },
      "outputs": [
        {
          "name": "stdout",
          "output_type": "stream",
          "text": [
            "466 100 100\n"
          ]
        }
      ],
      "source": [
        "TB_Chest_df = os.listdir('./dataset/TB_Chest')\n",
        "TB_Chest_df = shuffle(TB_Chest_df)\n",
        "train_TB_Chest, test_TB_Chest = train_test_split(TB_Chest_df, test_size=0.3, random_state=101)\n",
        "val_TB_Chest, test_TB_Chest = train_test_split(test_TB_Chest, test_size=0.5, random_state=101)\n",
        "print(len(train_TB_Chest), len(val_TB_Chest), len(test_TB_Chest))"
      ]
    },
    {
      "cell_type": "code",
      "execution_count": 5,
      "metadata": {
        "colab": {
          "base_uri": "https://localhost:8080/"
        },
        "id": "EVWbOoZc8MIe",
        "outputId": "fa1cec87-a4dd-4580-a85e-35533f39b47b"
      },
      "outputs": [
        {
          "name": "stdout",
          "output_type": "stream",
          "text": [
            "941 202 202\n"
          ]
        }
      ],
      "source": [
        "Viral_Pneumonia_df = os.listdir('./dataset/Viral Pneumonia')\n",
        "Viral_Pneumonia_df = shuffle(Viral_Pneumonia_df)\n",
        "train_Viral_Pneumonia, test_Viral_Pneumonia = train_test_split(Viral_Pneumonia_df, test_size=0.3, random_state=101)\n",
        "val_Viral_Pneumonia, test_Viral_Pneumonia = train_test_split(test_Viral_Pneumonia, test_size=0.5, random_state=101)\n",
        "print(len(train_Viral_Pneumonia), len(val_Viral_Pneumonia), len(test_Viral_Pneumonia))"
      ]
    },
    {
      "cell_type": "code",
      "execution_count": 6,
      "metadata": {
        "id": "XV3pQWwP8POn"
      },
      "outputs": [],
      "source": [
        "data_path = './'\n"
      ]
    },
    {
      "cell_type": "code",
      "execution_count": 7,
      "metadata": {
        "id": "ss17ZmZ78SBN"
      },
      "outputs": [],
      "source": [
        "train_path = os.path.join(data_path, 'train')\n",
        "os.mkdir(train_path)\n",
        "train_normal_path = os.path.join(train_path, 'normal')\n",
        "os.mkdir(train_normal_path)\n",
        "train_Viral_Pneumonia_path = os.path.join(train_path, 'Viral_Pneumonia')\n",
        "os.mkdir(train_Viral_Pneumonia_path)\n",
        "train_Covid_path = os.path.join(train_path, 'Covid')\n",
        "os.mkdir(train_Covid_path)\n",
        "train_TB_Chest_path = os.path.join(train_path, 'TB_Chest')\n",
        "os.mkdir(train_TB_Chest_path)"
      ]
    },
    {
      "cell_type": "code",
      "execution_count": 8,
      "metadata": {
        "id": "NmUPTLyz9JM4"
      },
      "outputs": [],
      "source": [
        "# val_path = os.path.join(data_path, 'val')\n",
        "# os.mkdir(val_path)\n",
        "# val_normal_path = os.path.join(val_path, 'normal')\n",
        "# os.mkdir(val_normal_path)\n",
        "# val_abnormal_path = os.path.join(val_path, 'abnormal')\n",
        "# os.mkdir(val_abnormal_path)\n",
        "val_path = os.path.join(data_path, 'val')\n",
        "os.mkdir(val_path)\n",
        "val_normal_path = os.path.join(val_path, 'normal')\n",
        "os.mkdir(val_normal_path)\n",
        "val_Viral_Pneumonia_path = os.path.join(val_path, 'Viral_Pneumonia')\n",
        "os.mkdir(val_Viral_Pneumonia_path)\n",
        "val_Covid_path = os.path.join(val_path, 'Covid')\n",
        "os.mkdir(val_Covid_path)\n",
        "val_TB_Chest_path = os.path.join(val_path, 'TB_Chest')\n",
        "os.mkdir(val_TB_Chest_path)"
      ]
    },
    {
      "cell_type": "code",
      "execution_count": 9,
      "metadata": {
        "id": "9VBoFbfQ9VrX"
      },
      "outputs": [],
      "source": [
        "# test_path = os.path.join(data_path, 'test')\n",
        "# os.mkdir(test_path)\n",
        "# test_normal_path = os.path.join(test_path, 'normal')\n",
        "# os.mkdir(test_normal_path)\n",
        "# test_abnormal_path = os.path.join(test_path, 'abnormal')\n",
        "# os.mkdir(test_abnormal_path)\n",
        "test_path = os.path.join(data_path, 'test')\n",
        "os.mkdir(test_path)\n",
        "test_normal_path = os.path.join(test_path, 'normal')\n",
        "os.mkdir(test_normal_path)\n",
        "test_Viral_Pneumonia_path = os.path.join(test_path, 'Viral_Pneumonia')\n",
        "os.mkdir(test_Viral_Pneumonia_path)\n",
        "test_Covid_path = os.path.join(test_path, 'Covid')\n",
        "os.mkdir(test_Covid_path)\n",
        "test_TB_Chest_path = os.path.join(test_path, 'TB_Chest')\n",
        "os.mkdir(test_TB_Chest_path)\n"
      ]
    },
    {
      "cell_type": "code",
      "execution_count": 10,
      "metadata": {
        "id": "DcvVry939fyX"
      },
      "outputs": [],
      "source": [
        "def img_preprocessing(src):\n",
        "    img = cv.imread(src, 0)\n",
        "    org_img = img.copy()\n",
        "    brightest = np.amax(img)\n",
        "    darkest = np.amin(img)\n",
        "    T = darkest + 0.9*(brightest - darkest)\n",
        "    thre_img = cv.threshold(img, T, 255, cv.THRESH_BINARY)\n",
        "    thre_img = thre_img[1]\n",
        "    kernel = np.ones((5, 5),np.uint8)\n",
        "    cleaned = cv.erode(thre_img,kernel,iterations = 5)\n",
        "    cleaned = cv.dilate(cleaned,kernel,iterations = 5)\n",
        "    cleaned = cleaned // 255\n",
        "    img = img * cleaned\n",
        "    img = org_img - img\n",
        "    dim = (224, 224)\n",
        "    img = cv.resize(img, dim, interpolation = cv.INTER_AREA)\n",
        "    B = cv.bilateralFilter(img, 9, 75, 75)\n",
        "    R = cv.equalizeHist(img)\n",
        "    new_img = cv.merge((B, img, R))\n",
        "    return new_img"
      ]
    },
    {
      "cell_type": "code",
      "execution_count": 12,
      "metadata": {
        "colab": {
          "base_uri": "https://localhost:8080/",
          "height": 286
        },
        "id": "xJeEnSE-9lQF",
        "outputId": "14945de1-74b6-4fab-842a-1a267f7e0da6"
      },
      "outputs": [
        {
          "data": {
            "text/plain": [
              "<matplotlib.image.AxesImage at 0x225be2b4c70>"
            ]
          },
          "execution_count": 12,
          "metadata": {},
          "output_type": "execute_result"
        },
        {
          "data": {
            "image/png": "[encoded data removed]",
            "text/plain": [
              "<Figure size 432x288 with 1 Axes>"
            ]
          },
          "metadata": {
            "needs_background": "light"
          },
          "output_type": "display_data"
        }
      ],
      "source": [
        "img = img_preprocessing('./dataset/Viral Pneumonia/Viral Pneumonia-1.png')\n",
        "plt.imshow(img)"
      ]
    },
    {
      "cell_type": "code",
      "execution_count": 14,
      "metadata": {
        "id": "lNqIg8Mw9mGn"
      },
      "outputs": [],
      "source": [
        "# normal train data\n",
        "for img in train_normal:\n",
        "    src = './dataset/Normal/' + img\n",
        "    im = img_preprocessing(src)\n",
        "    dst = train_path + '/' + 'normal/' + img\n",
        "    cv.imwrite(dst, im)"
      ]
    },
    {
      "cell_type": "code",
      "execution_count": 15,
      "metadata": {
        "id": "BVC86aRW9oyH"
      },
      "outputs": [],
      "source": [
        "#abnormal train data\n",
        "for img in train_covid:\n",
        "    src = './dataset/COVID/' + img\n",
        "    im = img_preprocessing(src)\n",
        "    dst = train_path + '/' + 'Covid/' + img\n",
        "    cv.imwrite(dst, im)\n",
        "\n",
        "    #abnormal train data\n",
        "for img in train_TB_Chest:\n",
        "    src = './dataset/TB_Chest/' + img\n",
        "    im = img_preprocessing(src)\n",
        "    dst = train_path + '/' + 'TB_Chest/' + img\n",
        "    cv.imwrite(dst, im)\n",
        "    \n",
        "    #abnormal train data\n",
        "for img in train_Viral_Pneumonia:\n",
        "    src = './dataset/Viral Pneumonia/' + img\n",
        "    im = img_preprocessing(src)\n",
        "    dst = train_path + '/' + 'Viral_Pneumonia/' + img\n",
        "    cv.imwrite(dst, im) "
      ]
    },
    {
      "cell_type": "code",
      "execution_count": 16,
      "metadata": {
        "id": "_L25ZuyLML5S"
      },
      "outputs": [],
      "source": [
        "# normal validation data\n",
        "for img in val_normal:\n",
        "    src = './dataset/Normal/' + img\n",
        "    im = img_preprocessing(src)\n",
        "    dst = val_path + '/' + 'normal/' + img\n",
        "    cv.imwrite(dst, im)\n",
        "#abnormal validation data\n",
        "for img in val_covid:\n",
        "    src = './dataset/COVID/' + img\n",
        "    im = img_preprocessing(src)\n",
        "    dst = val_path + '/' + 'Covid/' + img\n",
        "    cv.imwrite(dst, im)\n",
        "for img in val_TB_Chest:\n",
        "     src = './dataset/TB_Chest/' + img\n",
        "     im = img_preprocessing(src)\n",
        "     dst = val_path + '/' + 'TB_Chest/' + img\n",
        "     cv.imwrite(dst, im)\n",
        "for img in val_Viral_Pneumonia:\n",
        "     src = './dataset/Viral Pneumonia/'  + img\n",
        "     im = img_preprocessing(src)\n",
        "     dst = val_path + '/' + 'Viral_Pneumonia/' + img\n",
        "     cv.imwrite(dst, im) \n",
        "\n",
        " "
      ]
    },
    {
      "cell_type": "code",
      "execution_count": 17,
      "metadata": {
        "id": "BJHYUymPOIm8"
      },
      "outputs": [],
      "source": [
        "# normal test data\n",
        "for img in test_normal:\n",
        "    src = './dataset/Normal/' + img\n",
        "    im = img_preprocessing(src)\n",
        "    dst = test_path + '/' + 'normal/' + img\n",
        "    cv.imwrite(dst, im)\n",
        "    #abnormal test data\n",
        "for img in test_covid:\n",
        "    src =  './dataset/COVID/' + img\n",
        "    im = img_preprocessing(src)\n",
        "    dst = test_path + '/' + 'Covid/' + img\n",
        "    cv.imwrite(dst, im)\n",
        "for img in test_TB_Chest:\n",
        "     src = './dataset/TB_Chest/' + img\n",
        "     im = img_preprocessing(src)\n",
        "     dst = test_path + '/' + 'TB_Chest/' + img\n",
        "     cv.imwrite(dst, im)\n",
        "for img in test_Viral_Pneumonia:\n",
        "    src = './dataset/Viral Pneumonia/'  + img\n",
        "    im = img_preprocessing(src)\n",
        "    dst = test_path + '/' + 'Viral_Pneumonia/' + img\n",
        "    cv.imwrite(dst, im) \n"
      ]
    },
    {
      "cell_type": "code",
      "execution_count": 18,
      "metadata": {
        "id": "z0_pjwcsQQRY"
      },
      "outputs": [],
      "source": [
        "train_path = './train/'\n",
        "valid_path = './val/'\n",
        "test_path =  './test/'"
      ]
    },
    {
      "cell_type": "code",
      "execution_count": 19,
      "metadata": {
        "id": "3zaxsRhuQbDr"
      },
      "outputs": [],
      "source": [
        "NUM_AUG_IMAGES_WANTED = 11000\n",
        "\n",
        "IMAGE_HEIGHT = 224\n",
        "IMAGE_WIDTH = 224"
      ]
    },
    {
      "cell_type": "code",
      "execution_count": 20,
      "metadata": {
        "colab": {
          "base_uri": "https://localhost:8080/"
        },
        "id": "asqB4kW0Qdch",
        "outputId": "98f83045-d76a-418f-f4b4-5a56f9b414a2"
      },
      "outputs": [
        {
          "name": "stdout",
          "output_type": "stream",
          "text": [
            "Found 7134 images belonging to 1 classes.\n",
            "Found 941 images belonging to 1 classes.\n",
            "Found 2531 images belonging to 1 classes.\n",
            "Found 466 images belonging to 1 classes.\n"
          ]
        }
      ],
      "source": [
        "class_list = ['normal','Viral_Pneumonia', 'Covid','TB_Chest']\n",
        "\n",
        "for item in class_list:\n",
        "    aug_dir = os.path.join(data_path, 'aug_dir')\n",
        "    os.mkdir(aug_dir)\n",
        "    img_dir = os.path.join(aug_dir, 'img_dir')\n",
        "    os.mkdir(img_dir)\n",
        "    img_class = item\n",
        "    img_list = os.listdir(train_path + img_class)\n",
        "    for fname in img_list:\n",
        "            src = os.path.join(train_path + img_class, fname)\n",
        "            dst = os.path.join(img_dir, fname)\n",
        "            shutil.copyfile(src, dst)\n",
        "    path = aug_dir\n",
        "    save_path = train_path + img_class\n",
        "    datagen = ImageDataGenerator(\n",
        "        rotation_range=10,\n",
        "        width_shift_range=0.1,\n",
        "        height_shift_range=0.1,\n",
        "        zoom_range=0.1,\n",
        "        horizontal_flip=True,\n",
        "        fill_mode='nearest')\n",
        "\n",
        "    batch_size = 50\n",
        "\n",
        "    aug_datagen = datagen.flow_from_directory(path,save_to_dir=save_path,save_format='png',target_size=(IMAGE_HEIGHT,IMAGE_WIDTH),batch_size=batch_size)\n",
        "    num_files = len(os.listdir(img_dir))\n",
        "    num_batches = int(np.ceil((NUM_AUG_IMAGES_WANTED-num_files)/batch_size))\n",
        "    for i in range(0,num_batches):\n",
        "        imgs, labels = next(aug_datagen)\n",
        "    shutil.rmtree(aug_dir)"
      ]
    },
    {
      "cell_type": "code",
      "execution_count": 21,
      "metadata": {
        "colab": {
          "base_uri": "https://localhost:8080/"
        },
        "id": "JbkxL3S-SfLU",
        "outputId": "573a1423-4e65-481f-85d2-1a71b1cfde8e"
      },
      "outputs": [
        {
          "name": "stdout",
          "output_type": "stream",
          "text": [
            "Found 43261 images belonging to 4 classes.\n",
            "Found 2373 images belonging to 4 classes.\n",
            "Found 2374 images belonging to 4 classes.\n"
          ]
        }
      ],
      "source": [
        "# datagen = ImageDataGenerator(rescale=1.0/255, rotation_range=0.18, zoom_range=0.15, width_shift_range=0.2, height_shift_range=0.2, horizontal_flip=True)\n",
        "datagen = ImageDataGenerator(rescale=1.0/255)\n",
        "train_gen = datagen.flow_from_directory(train_path,\n",
        "                                        target_size=(224,224),\n",
        "                                        batch_size=10,\n",
        "                                        class_mode='categorical')                                      \n",
        "val_gen = datagen.flow_from_directory(valid_path,\n",
        "                                        target_size=(224,224),\n",
        "                                        batch_size=10,\n",
        "                                        class_mode='categorical')\n",
        "test_gen = datagen.flow_from_directory(test_path,\n",
        "                                        target_size=(224,224),\n",
        "                                        batch_size=1,\n",
        "                                        class_mode='categorical',\n",
        "                                        shuffle=False)"
      ]
    },
    {
      "cell_type": "code",
      "execution_count": 22,
      "metadata": {
        "id": "sxMTjfFfSj9h"
      },
      "outputs": [],
      "source": [
        "width = 224\n",
        "height = 224\n",
        "classes = 4\n",
        "shape = (width, height, 3)"
      ]
    },
    {
      "cell_type": "code",
      "execution_count": 23,
      "metadata": {
        "id": "qSwdNj_gSmIY"
      },
      "outputs": [],
      "source": [
        "# Model Architecture\n",
        "model = Sequential()\n",
        "model.add(Conv2D(64, (3, 3), padding=\"same\", input_shape=shape))\n",
        "model.add(Activation(\"relu\"))\n",
        "model.add(Conv2D(64, (3, 3), padding=\"same\"))\n",
        "model.add(Activation(\"relu\"))\n",
        "model.add(BatchNormalization())\n",
        "model.add(MaxPooling2D(pool_size=(2,2)))\n",
        "\n",
        "model.add(Conv2D(128, (3, 3), padding=\"same\"))\n",
        "model.add(Activation(\"relu\"))\n",
        "model.add(Conv2D(128, (3, 3), padding=\"same\"))\n",
        "model.add(Activation(\"relu\"))\n",
        "model.add(BatchNormalization())\n",
        "model.add(MaxPooling2D(pool_size=(2,2)))\n",
        "\n",
        "model.add(Conv2D(256, (3, 3), padding=\"same\"))\n",
        "model.add(Activation(\"relu\"))\n",
        "model.add(Conv2D(256, (3, 3), padding=\"same\"))\n",
        "model.add(Activation(\"relu\"))\n",
        "model.add(Conv2D(256, (3, 3), padding=\"same\"))\n",
        "model.add(Activation(\"relu\"))\n",
        "model.add(MaxPooling2D(pool_size=(2,2)))\n",
        "\n",
        "model.add(Conv2D(512, (3, 3), padding=\"same\"))\n",
        "model.add(Activation(\"relu\"))\n",
        "model.add(Conv2D(512, (3, 3), padding=\"same\"))\n",
        "model.add(Activation(\"relu\"))\n",
        "model.add(Conv2D(512, (3, 3), padding=\"same\"))\n",
        "model.add(Activation(\"relu\"))\n",
        "model.add(MaxPooling2D(pool_size=(2,2)))\n",
        "\n",
        "model.add(Conv2D(512, (3, 3), padding=\"same\"))\n",
        "model.add(Activation(\"relu\"))\n",
        "model.add(Conv2D(512, (3, 3), padding=\"same\"))\n",
        "model.add(Activation(\"relu\"))\n",
        "model.add(Conv2D(512, (3, 3), padding=\"same\"))\n",
        "model.add(Activation(\"relu\"))\n",
        "model.add(MaxPooling2D(pool_size=(2,2)))\n",
        "\n",
        "#Fully conected\n",
        "model.add(Flatten())\n",
        "model.add(Dense(256))\n",
        "model.add(Activation(\"relu\"))\n",
        "model.add(BatchNormalization())\n",
        "model.add(Dropout(0.2))\n",
        "model.add(Dense(128))\n",
        "model.add(Activation(\"relu\"))\n",
        "model.add(BatchNormalization())\n",
        "model.add(Dropout(0.2))\n",
        "model.add(Dense(classes))\n",
        "model.add(Activation(\"softmax\"))"
      ]
    },
    {
      "cell_type": "code",
      "execution_count": 24,
      "metadata": {
        "colab": {
          "base_uri": "https://localhost:8080/"
        },
        "id": "p2TTrvy-SpjJ",
        "outputId": "44ec3eef-137d-40c5-a659-3e9838e7070a"
      },
      "outputs": [
        {
          "name": "stdout",
          "output_type": "stream",
          "text": [
            "Model: \"sequential\"\n",
            "_________________________________________________________________\n",
            " Layer (type)                Output Shape              Param #   \n",
            "=================================================================\n",
            " conv2d (Conv2D)             (None, 224, 224, 64)      1792      \n",
            "                                                                 \n",
            " activation (Activation)     (None, 224, 224, 64)      0         \n",
            "                                                                 \n",
            " conv2d_1 (Conv2D)           (None, 224, 224, 64)      36928     \n",
            "                                                                 \n",
            " activation_1 (Activation)   (None, 224, 224, 64)      0         \n",
            "                                                                 \n",
            " batch_normalization (BatchN  (None, 224, 224, 64)     256       \n",
            " ormalization)                                                   \n",
            "                                                                 \n",
            " max_pooling2d (MaxPooling2D  (None, 112, 112, 64)     0         \n",
            " )                                                               \n",
            "                                                                 \n",
            " conv2d_2 (Conv2D)           (None, 112, 112, 128)     73856     \n",
            "                                                                 \n",
            " activation_2 (Activation)   (None, 112, 112, 128)     0         \n",
            "                                                                 \n",
            " conv2d_3 (Conv2D)           (None, 112, 112, 128)     147584    \n",
            "                                                                 \n",
            " activation_3 (Activation)   (None, 112, 112, 128)     0         \n",
            "                                                                 \n",
            " batch_normalization_1 (Batc  (None, 112, 112, 128)    512       \n",
            " hNormalization)                                                 \n",
            "                                                                 \n",
            " max_pooling2d_1 (MaxPooling  (None, 56, 56, 128)      0         \n",
            " 2D)                                                             \n",
            "                                                                 \n",
            " conv2d_4 (Conv2D)           (None, 56, 56, 256)       295168    \n",
            "                                                                 \n",
            " activation_4 (Activation)   (None, 56, 56, 256)       0         \n",
            "                                                                 \n",
            " conv2d_5 (Conv2D)           (None, 56, 56, 256)       590080    \n",
            "                                                                 \n",
            " activation_5 (Activation)   (None, 56, 56, 256)       0         \n",
            "                                                                 \n",
            " conv2d_6 (Conv2D)           (None, 56, 56, 256)       590080    \n",
            "                                                                 \n",
            " activation_6 (Activation)   (None, 56, 56, 256)       0         \n",
            "                                                                 \n",
            " max_pooling2d_2 (MaxPooling  (None, 28, 28, 256)      0         \n",
            " 2D)                                                             \n",
            "                                                                 \n",
            " conv2d_7 (Conv2D)           (None, 28, 28, 512)       1180160   \n",
            "                                                                 \n",
            " activation_7 (Activation)   (None, 28, 28, 512)       0         \n",
            "                                                                 \n",
            " conv2d_8 (Conv2D)           (None, 28, 28, 512)       2359808   \n",
            "                                                                 \n",
            " activation_8 (Activation)   (None, 28, 28, 512)       0         \n",
            "                                                                 \n",
            " conv2d_9 (Conv2D)           (None, 28, 28, 512)       2359808   \n",
            "                                                                 \n",
            " activation_9 (Activation)   (None, 28, 28, 512)       0         \n",
            "                                                                 \n",
            " max_pooling2d_3 (MaxPooling  (None, 14, 14, 512)      0         \n",
            " 2D)                                                             \n",
            "                                                                 \n",
            " conv2d_10 (Conv2D)          (None, 14, 14, 512)       2359808   \n",
            "                                                                 \n",
            " activation_10 (Activation)  (None, 14, 14, 512)       0         \n",
            "                                                                 \n",
            " conv2d_11 (Conv2D)          (None, 14, 14, 512)       2359808   \n",
            "                                                                 \n",
            " activation_11 (Activation)  (None, 14, 14, 512)       0         \n",
            "                                                                 \n",
            " conv2d_12 (Conv2D)          (None, 14, 14, 512)       2359808   \n",
            "                                                                 \n",
            " activation_12 (Activation)  (None, 14, 14, 512)       0         \n",
            "                                                                 \n",
            " max_pooling2d_4 (MaxPooling  (None, 7, 7, 512)        0         \n",
            " 2D)                                                             \n",
            "                                                                 \n",
            " flatten (Flatten)           (None, 25088)             0         \n",
            "                                                                 \n",
            " dense (Dense)               (None, 256)               6422784   \n",
            "                                                                 \n",
            " activation_13 (Activation)  (None, 256)               0         \n",
            "                                                                 \n",
            " batch_normalization_2 (Batc  (None, 256)              1024      \n",
            " hNormalization)                                                 \n",
            "                                                                 \n",
            " dropout (Dropout)           (None, 256)               0         \n",
            "                                                                 \n",
            " dense_1 (Dense)             (None, 128)               32896     \n",
            "                                                                 \n",
            " activation_14 (Activation)  (None, 128)               0         \n",
            "                                                                 \n",
            " batch_normalization_3 (Batc  (None, 128)              512       \n",
            " hNormalization)                                                 \n",
            "                                                                 \n",
            " dropout_1 (Dropout)         (None, 128)               0         \n",
            "                                                                 \n",
            " dense_2 (Dense)             (None, 4)                 516       \n",
            "                                                                 \n",
            " activation_15 (Activation)  (None, 4)                 0         \n",
            "                                                                 \n",
            "=================================================================\n",
            "Total params: 21,173,188\n",
            "Trainable params: 21,172,036\n",
            "Non-trainable params: 1,152\n",
            "_________________________________________________________________\n"
          ]
        }
      ],
      "source": [
        "model.summary()"
      ]
    },
    {
      "cell_type": "code",
      "execution_count": 25,
      "metadata": {
        "id": "MW8x0mjtXmI8"
      },
      "outputs": [],
      "source": [
        "learning_rate = 0.00001\n",
        "epochs = 50\n",
        "# epoch\n",
        "# Steps\n",
        "# \n",
        "batch_size = 180"
      ]
    },
    {
      "cell_type": "code",
      "execution_count": 26,
      "metadata": {
        "id": "dOnJt4bQXr15"
      },
      "outputs": [],
      "source": [
        "model.compile(optimizer= Adam(learning_rate), loss=\"categorical_crossentropy\", metrics=[\"accuracy\"])"
      ]
    },
    {
      "cell_type": "code",
      "execution_count": 27,
      "metadata": {
        "colab": {
          "base_uri": "https://localhost:8080/",
          "height": 1000
        },
        "id": "E9q6RxnAXuKJ",
        "outputId": "47a68d84-4666-4059-de47-c1eb2cc90ab6"
      },
      "outputs": [
        {
          "name": "stdout",
          "output_type": "stream",
          "text": [
            "START TRAINING\n"
          ]
        },
        {
          "name": "stderr",
          "output_type": "stream",
          "text": [
            "C:\\Users\\user\\AppData\\Local\\Temp\\ipykernel_10636\\3159280466.py:3: UserWarning: `Model.fit_generator` is deprecated and will be removed in a future version. Please use `Model.fit`, which supports generators.\n",
            "  H = model.fit_generator(train_gen , validation_data = val_gen, epochs = epochs, steps_per_epoch=32959//batch_size, verbose=1)\n"
          ]
        },
        {
          "name": "stdout",
          "output_type": "stream",
          "text": [
            "Epoch 1/50\n",
            "183/183 [==============================] - 7018s 38s/step - loss: 1.1746 - accuracy: 0.5464 - val_loss: 1.4093 - val_accuracy: 0.2284\n",
            "Epoch 2/50\n",
            "183/183 [==============================] - 3870s 21s/step - loss: 0.8738 - accuracy: 0.6754 - val_loss: 1.5827 - val_accuracy: 0.2174\n",
            "Epoch 3/50\n",
            "183/183 [==============================] - 3147s 17s/step - loss: 0.7923 - accuracy: 0.7093 - val_loss: 1.5703 - val_accuracy: 0.2642\n",
            "Epoch 4/50\n",
            "183/183 [==============================] - 3135s 17s/step - loss: 0.8361 - accuracy: 0.6978 - val_loss: 0.6303 - val_accuracy: 0.7577\n",
            "Epoch 5/50\n",
            "183/183 [==============================] - 3144s 17s/step - loss: 0.7960 - accuracy: 0.6978 - val_loss: 0.5462 - val_accuracy: 0.7817\n",
            "Epoch 6/50\n",
            "183/183 [==============================] - 3172s 17s/step - loss: 0.7751 - accuracy: 0.7148 - val_loss: 1.2654 - val_accuracy: 0.6974\n",
            "Epoch 7/50\n",
            "183/183 [==============================] - 3132s 17s/step - loss: 0.6695 - accuracy: 0.7563 - val_loss: 0.8212 - val_accuracy: 0.7004\n",
            "Epoch 8/50\n",
            "183/183 [==============================] - 2979s 16s/step - loss: 0.7192 - accuracy: 0.7383 - val_loss: 0.5092 - val_accuracy: 0.7960\n",
            "Epoch 9/50\n",
            "183/183 [==============================] - 3086s 17s/step - loss: 0.6362 - accuracy: 0.7541 - val_loss: 0.8355 - val_accuracy: 0.6991\n",
            "Epoch 10/50\n",
            "183/183 [==============================] - 3169s 17s/step - loss: 0.6392 - accuracy: 0.7656 - val_loss: 1.6111 - val_accuracy: 0.3982\n",
            "Epoch 11/50\n",
            "183/183 [==============================] - 3108s 17s/step - loss: 0.7019 - accuracy: 0.7377 - val_loss: 0.6045 - val_accuracy: 0.7842\n",
            "Epoch 12/50\n",
            "183/183 [==============================] - 3113s 17s/step - loss: 0.6125 - accuracy: 0.7689 - val_loss: 0.4636 - val_accuracy: 0.8222\n",
            "Epoch 13/50\n",
            "183/183 [==============================] - 3105s 17s/step - loss: 0.6216 - accuracy: 0.7743 - val_loss: 0.6304 - val_accuracy: 0.7649\n",
            "Epoch 14/50\n",
            "183/183 [==============================] - 3108s 17s/step - loss: 0.6225 - accuracy: 0.7727 - val_loss: 0.7629 - val_accuracy: 0.7577\n",
            "Epoch 15/50\n",
            "183/183 [==============================] - 3112s 17s/step - loss: 0.5902 - accuracy: 0.7831 - val_loss: 1.3756 - val_accuracy: 0.4943\n",
            "Epoch 16/50\n",
            "183/183 [==============================] - 3116s 17s/step - loss: 0.5630 - accuracy: 0.7995 - val_loss: 0.6866 - val_accuracy: 0.7741\n",
            "Epoch 17/50\n",
            "183/183 [==============================] - 3112s 17s/step - loss: 0.5818 - accuracy: 0.7891 - val_loss: 0.6548 - val_accuracy: 0.7796\n",
            "Epoch 18/50\n",
            "183/183 [==============================] - 3120s 17s/step - loss: 0.5713 - accuracy: 0.7989 - val_loss: 1.7648 - val_accuracy: 0.4286\n",
            "Epoch 19/50\n",
            "183/183 [==============================] - 3135s 17s/step - loss: 0.5759 - accuracy: 0.7869 - val_loss: 0.6739 - val_accuracy: 0.7686\n",
            "Epoch 20/50\n",
            "183/183 [==============================] - 3121s 17s/step - loss: 0.5602 - accuracy: 0.8055 - val_loss: 0.9993 - val_accuracy: 0.7396\n",
            "Epoch 21/50\n",
            "183/183 [==============================] - 3203s 18s/step - loss: 0.5196 - accuracy: 0.8066 - val_loss: 0.3728 - val_accuracy: 0.8685\n",
            "Epoch 22/50\n",
            "183/183 [==============================] - 3522s 19s/step - loss: 0.5669 - accuracy: 0.7995 - val_loss: 2.1227 - val_accuracy: 0.3515\n",
            "Epoch 23/50\n",
            "183/183 [==============================] - 3078s 17s/step - loss: 0.5334 - accuracy: 0.8044 - val_loss: 0.5157 - val_accuracy: 0.8196\n",
            "Epoch 24/50\n",
            "183/183 [==============================] - 3106s 17s/step - loss: 0.5299 - accuracy: 0.8022 - val_loss: 0.9416 - val_accuracy: 0.6587\n",
            "Epoch 25/50\n",
            "183/183 [==============================] - 3092s 17s/step - loss: 0.4700 - accuracy: 0.8240 - val_loss: 0.4914 - val_accuracy: 0.8205\n",
            "Epoch 26/50\n",
            "183/183 [==============================] - 3091s 17s/step - loss: 0.4870 - accuracy: 0.8115 - val_loss: 0.5255 - val_accuracy: 0.7998\n",
            "Epoch 27/50\n",
            "183/183 [==============================] - 3074s 17s/step - loss: 0.5212 - accuracy: 0.8169 - val_loss: 0.4967 - val_accuracy: 0.8314\n",
            "Epoch 28/50\n",
            "183/183 [==============================] - 3082s 17s/step - loss: 0.5467 - accuracy: 0.7967 - val_loss: 0.7551 - val_accuracy: 0.7244\n",
            "Epoch 29/50\n",
            "183/183 [==============================] - 3073s 17s/step - loss: 0.4544 - accuracy: 0.8290 - val_loss: 0.2915 - val_accuracy: 0.8959\n",
            "Epoch 30/50\n",
            "183/183 [==============================] - 3069s 17s/step - loss: 0.4896 - accuracy: 0.8235 - val_loss: 0.3320 - val_accuracy: 0.8812\n",
            "Epoch 31/50\n",
            "183/183 [==============================] - 3087s 17s/step - loss: 0.4627 - accuracy: 0.8306 - val_loss: 0.8755 - val_accuracy: 0.7703\n",
            "Epoch 32/50\n",
            "183/183 [==============================] - 3077s 17s/step - loss: 0.4754 - accuracy: 0.8311 - val_loss: 0.3667 - val_accuracy: 0.8668\n",
            "Epoch 33/50\n",
            "183/183 [==============================] - 2931s 16s/step - loss: 0.4604 - accuracy: 0.8284 - val_loss: 0.4941 - val_accuracy: 0.8276\n",
            "Epoch 34/50\n",
            "183/183 [==============================] - 2764s 15s/step - loss: 0.4513 - accuracy: 0.8399 - val_loss: 0.6000 - val_accuracy: 0.7981\n",
            "Epoch 35/50\n",
            "183/183 [==============================] - 2788s 15s/step - loss: 0.4814 - accuracy: 0.8322 - val_loss: 0.9872 - val_accuracy: 0.6650\n",
            "Epoch 36/50\n",
            "183/183 [==============================] - 2758s 15s/step - loss: 0.4512 - accuracy: 0.8333 - val_loss: 0.3729 - val_accuracy: 0.8651\n",
            "Epoch 37/50\n",
            "183/183 [==============================] - 2759s 15s/step - loss: 0.4599 - accuracy: 0.8219 - val_loss: 1.0050 - val_accuracy: 0.5900\n",
            "Epoch 38/50\n",
            "183/183 [==============================] - 3061s 17s/step - loss: 0.4895 - accuracy: 0.8311 - val_loss: 0.4959 - val_accuracy: 0.8335\n",
            "Epoch 39/50\n",
            "183/183 [==============================] - 3113s 17s/step - loss: 0.4480 - accuracy: 0.8339 - val_loss: 0.3540 - val_accuracy: 0.8816\n",
            "Epoch 40/50\n",
            "183/183 [==============================] - 33347s 183s/step - loss: 0.4587 - accuracy: 0.8361 - val_loss: 0.3903 - val_accuracy: 0.8491\n",
            "Epoch 41/50\n",
            "183/183 [==============================] - 3672s 20s/step - loss: 0.4817 - accuracy: 0.8290 - val_loss: 0.3245 - val_accuracy: 0.8774\n",
            "Epoch 42/50\n",
            "183/183 [==============================] - 3420s 19s/step - loss: 0.4250 - accuracy: 0.8492 - val_loss: 0.2716 - val_accuracy: 0.9018\n",
            "Epoch 43/50\n",
            "183/183 [==============================] - 4153s 23s/step - loss: 0.4066 - accuracy: 0.8443 - val_loss: 0.7042 - val_accuracy: 0.7817\n",
            "Epoch 44/50\n",
            "183/183 [==============================] - 4176s 23s/step - loss: 0.4368 - accuracy: 0.8541 - val_loss: 0.6197 - val_accuracy: 0.7762\n",
            "Epoch 45/50\n",
            "183/183 [==============================] - 3162s 17s/step - loss: 0.3904 - accuracy: 0.8601 - val_loss: 0.5858 - val_accuracy: 0.7977\n",
            "Epoch 46/50\n",
            "183/183 [==============================] - 3392s 19s/step - loss: 0.4267 - accuracy: 0.8475 - val_loss: 0.2896 - val_accuracy: 0.8946\n",
            "Epoch 47/50\n",
            "183/183 [==============================] - 3080s 17s/step - loss: 0.4230 - accuracy: 0.8481 - val_loss: 0.7400 - val_accuracy: 0.7678\n",
            "Epoch 48/50\n",
            "183/183 [==============================] - 3094s 17s/step - loss: 0.4069 - accuracy: 0.8481 - val_loss: 0.3257 - val_accuracy: 0.8871\n",
            "Epoch 49/50\n",
            "183/183 [==============================] - 3133s 17s/step - loss: 0.4277 - accuracy: 0.8481 - val_loss: 0.4206 - val_accuracy: 0.8567\n",
            "Epoch 50/50\n",
            "183/183 [==============================] - 3068s 17s/step - loss: 0.3900 - accuracy: 0.8574 - val_loss: 0.3349 - val_accuracy: 0.8820\n",
            "Plot accuracy: \n"
          ]
        },
        {
          "data": {
            "image/png": "[encoded data removed]",
            "text/plain": [
              "<Figure size 432x288 with 1 Axes>"
            ]
          },
          "metadata": {
            "needs_background": "light"
          },
          "output_type": "display_data"
        },
        {
          "name": "stdout",
          "output_type": "stream",
          "text": [
            "Plot Loss\n"
          ]
        },
        {
          "data": {
            "image/png": "[encoded data removed]",
            "text/plain": [
              "<Figure size 432x288 with 1 Axes>"
            ]
          },
          "metadata": {
            "needs_background": "light"
          },
          "output_type": "display_data"
        },
        {
          "name": "stdout",
          "output_type": "stream",
          "text": [
            "TEST: \n"
          ]
        },
        {
          "name": "stderr",
          "output_type": "stream",
          "text": [
            "C:\\Users\\user\\AppData\\Local\\Temp\\ipykernel_10636\\3159280466.py:26: UserWarning: `Model.evaluate_generator` is deprecated and will be removed in a future version. Please use `Model.evaluate`, which supports generators.\n",
            "  scores = model.evaluate_generator(test_gen,2274) #2274 testing images\n"
          ]
        },
        {
          "name": "stdout",
          "output_type": "stream",
          "text": [
            "Test Accuracy =  0.8861038088798523\n",
            "Test Loss =  0.31091445684432983\n"
          ]
        }
      ],
      "source": [
        "# Fit model\n",
        "print('START TRAINING')\n",
        "H = model.fit_generator(train_gen , validation_data = val_gen, epochs = epochs, steps_per_epoch=32959//batch_size, verbose=1)\n",
        "#save model\n",
        "model.save('model.h5')\n",
        "# summarize history for accuracy\n",
        "print('Plot accuracy: ')\n",
        "plt.plot(H.history['accuracy'])\n",
        "plt.plot(H.history['val_accuracy'])\n",
        "plt.title('model accuracy')\n",
        "plt.ylabel('accuracy')\n",
        "plt.xlabel('epoch')\n",
        "plt.legend(['train', 'test'], loc='upper left')\n",
        "plt.show()\n",
        "# summarize history for loss\n",
        "print('Plot Loss')\n",
        "plt.plot(H.history['loss'])\n",
        "plt.plot(H.history['val_loss'])\n",
        "plt.title('model loss')\n",
        "plt.ylabel('loss')\n",
        "plt.xlabel('epoch')\n",
        "plt.legend(['train', 'test'], loc='upper left')\n",
        "plt.show()\n",
        "# test\n",
        "print('TEST: ')\n",
        "scores = model.evaluate_generator(test_gen,2274) #2274 testing images\n",
        "print(\"Test Accuracy = \", scores[1])\n",
        "print(\"Test Loss = \", scores[0])"
      ]
    },
    {
      "cell_type": "code",
      "execution_count": 28,
      "metadata": {
        "id": "TsWeGBO8vmUc"
      },
      "outputs": [],
      "source": [
        "test_labels = test_gen.classes"
      ]
    },
    {
      "cell_type": "code",
      "execution_count": 29,
      "metadata": {
        "colab": {
          "base_uri": "https://localhost:8080/"
        },
        "id": "ZhGe6wmDwIqa",
        "outputId": "88ec5682-7fee-4095-f066-85ea20818f17"
      },
      "outputs": [
        {
          "data": {
            "text/plain": [
              "array([0, 0, 0, ..., 3, 3, 3])"
            ]
          },
          "execution_count": 29,
          "metadata": {},
          "output_type": "execute_result"
        }
      ],
      "source": [
        "test_labels"
      ]
    },
    {
      "cell_type": "code",
      "execution_count": 30,
      "metadata": {
        "colab": {
          "base_uri": "https://localhost:8080/"
        },
        "id": "B8SQVcKuwLcB",
        "outputId": "bff238c3-5f38-48b1-89a0-2d578020e050"
      },
      "outputs": [
        {
          "name": "stderr",
          "output_type": "stream",
          "text": [
            "C:\\Users\\user\\AppData\\Local\\Temp\\ipykernel_10636\\884655040.py:1: UserWarning: `Model.predict_generator` is deprecated and will be removed in a future version. Please use `Model.predict`, which supports generators.\n",
            "  predictions = model.predict_generator(test_gen, verbose = 1)\n"
          ]
        },
        {
          "name": "stdout",
          "output_type": "stream",
          "text": [
            "2374/2374 [==============================] - 909s 382ms/step\n"
          ]
        }
      ],
      "source": [
        "predictions = model.predict_generator(test_gen, verbose = 1)"
      ]
    },
    {
      "cell_type": "code",
      "execution_count": 31,
      "metadata": {
        "id": "w4GCLth8wPkI"
      },
      "outputs": [],
      "source": [
        "from sklearn.metrics import confusion_matrix"
      ]
    },
    {
      "cell_type": "code",
      "execution_count": 32,
      "metadata": {
        "colab": {
          "base_uri": "https://localhost:8080/"
        },
        "id": "L-J08SNHwtQB",
        "outputId": "b3ec27b5-d8ee-4c24-96e1-23cbf554f300"
      },
      "outputs": [
        {
          "data": {
            "text/plain": [
              "array([3, 0, 0, ..., 0, 3, 0], dtype=int64)"
            ]
          },
          "execution_count": 32,
          "metadata": {},
          "output_type": "execute_result"
        }
      ],
      "source": [
        "predictions.argmax(axis = 1)"
      ]
    },
    {
      "cell_type": "code",
      "execution_count": 1,
      "metadata": {
        "id": "YYOChknzwvoK"
      },
      "outputs": [
        {
          "ename": "NameError",
          "evalue": "name 'confusion_matrix' is not defined",
          "output_type": "error",
          "traceback": [
            "\u001b[1;31m---------------------------------------------------------------------------\u001b[0m",
            "\u001b[1;31mNameError\u001b[0m                                 Traceback (most recent call last)",
            "\u001b[1;32mc:\\Users\\user\\Downloads\\enforced training work\\null.ipynb Cell 31'\u001b[0m in \u001b[0;36m<module>\u001b[1;34m\u001b[0m\n\u001b[1;32m----> <a href='vscode-notebook-cell:/c%3A/Users/user/Downloads/enforced%20training%20work/null.ipynb#ch0000030?line=0'>1</a>\u001b[0m cm \u001b[39m=\u001b[39m confusion_matrix(test_labels, predictions\u001b[39m.\u001b[39margmax(axis \u001b[39m=\u001b[39m \u001b[39m1\u001b[39m))\n",
            "\u001b[1;31mNameError\u001b[0m: name 'confusion_matrix' is not defined"
          ]
        }
      ],
      "source": [
        "cm = confusion_matrix(test_labels, predictions.argmax(axis = 1))"
      ]
    },
    {
      "cell_type": "code",
      "execution_count": 34,
      "metadata": {
        "colab": {
          "base_uri": "https://localhost:8080/"
        },
        "id": "Tw3Nvkbywx7Y",
        "outputId": "457a0f79-21be-458a-fc16-d96962795e18"
      },
      "outputs": [
        {
          "data": {
            "text/plain": [
              "{'Covid': 0, 'TB_Chest': 1, 'Viral_Pneumonia': 2, 'normal': 3}"
            ]
          },
          "execution_count": 34,
          "metadata": {},
          "output_type": "execute_result"
        }
      ],
      "source": [
        "test_gen.class_indices"
      ]
    },
    {
      "cell_type": "code",
      "execution_count": 35,
      "metadata": {
        "id": "NjMWK1xXwz9A"
      },
      "outputs": [],
      "source": [
        "import seaborn as sns"
      ]
    },
    {
      "cell_type": "code",
      "execution_count": 36,
      "metadata": {
        "colab": {
          "base_uri": "https://localhost:8080/",
          "height": 286
        },
        "id": "AhYPUYCzw2ZD",
        "outputId": "7225c478-aaf2-44d9-9578-6d3e702a2bdf"
      },
      "outputs": [
        {
          "data": {
            "text/plain": [
              "<AxesSubplot:>"
            ]
          },
          "execution_count": 36,
          "metadata": {},
          "output_type": "execute_result"
        },
        {
          "data": {
            "image/png": "[encoded data removed]",
            "text/plain": [
              "<Figure size 432x288 with 2 Axes>"
            ]
          },
          "metadata": {
            "needs_background": "light"
          },
          "output_type": "display_data"
        }
      ],
      "source": [
        "sns.heatmap(cm, annot = True)"
      ]
    },
    {
      "cell_type": "code",
      "execution_count": 37,
      "metadata": {
        "id": "_Q3iRqxcw6cZ"
      },
      "outputs": [],
      "source": [
        "model.save('model.h5')"
      ]
    },
    {
      "cell_type": "code",
      "execution_count": 38,
      "metadata": {
        "id": "3u8NgEBVw-t6"
      },
      "outputs": [],
      "source": [
        "from tensorflow import keras\n",
        "model = keras.models.load_model('model.h5')"
      ]
    },
    {
      "cell_type": "code",
      "execution_count": null,
      "metadata": {
        "id": "_r1qybZcw_4I"
      },
      "outputs": [],
      "source": []
    }
  ],
  "metadata": {
    "accelerator": "GPU",
    "colab": {
      "collapsed_sections": [],
      "name": "znb covid vgg tb .ipynb",
      "provenance": []
    },
    "kernelspec": {
      "display_name": "Python 3",
      "name": "python3"
    },
    "language_info": {
      "codemirror_mode": {
        "name": "ipython",
        "version": 3
      },
      "file_extension": ".py",
      "mimetype": "text/x-python",
      "name": "python",
      "nbconvert_exporter": "python",
      "pygments_lexer": "ipython3",
      "version": "3.8.6"
    }
  },
  "nbformat": 4,
  "nbformat_minor": 0
}
